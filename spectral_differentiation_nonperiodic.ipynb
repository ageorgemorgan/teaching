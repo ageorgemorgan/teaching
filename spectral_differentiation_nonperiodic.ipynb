{
 "cells": [
  {
   "cell_type": "markdown",
   "metadata": {},
   "source": [
    "# Demo: Spectral Differentiation (Non-Periodic Case)"
   ]
  },
  {
   "cell_type": "code",
   "execution_count": 1,
   "metadata": {},
   "outputs": [],
   "source": [
    "import numpy as np\n",
    "import matplotlib.pyplot as plt\n",
    "import time\n",
    "import sys\n",
    "\n",
    "from numpy.fft import fft, ifft\n",
    "\n",
    "from scipy import sparse\n",
    "\n",
    "# this makes sure the images don't come out looking muddy on \n",
    "# retina displays (which your computer probably uses)\n",
    "# Update 07/18/22: got retina working with updates thanks to \n",
    "# https://stackoverflow.com/questions/54312924/what-is-matplotlibs-retina-display-mode\n",
    "%matplotlib inline\n",
    "%config InlineBackend.figure_format='retina'"
   ]
  },
  {
   "cell_type": "markdown",
   "metadata": {},
   "source": [
    "In this demo, we extend spectral differentiation from working on (necessarily periodic) functions on $S^{1}$ to working on general functions on $[-1,1]$: of course, this vastly increases the class of problems that can be handled via a spectral approach. We shall find our old friends the Chebyshev nodes (from the Runge phenomenon demo) indispensible here. "
   ]
  },
  {
   "cell_type": "markdown",
   "metadata": {},
   "source": [
    "## Suggested References\n",
    "- John P. Boyd, *Chebyshev and Fourier Spectral Methods*, second revised edition, Dover, 2001\n",
    "\n",
    "\n",
    "- David Gottlieb, M. Yousuff Hussaini, and Steven A. Orszag, \"Introduction: Theory and Applications of Spectral Methods\" , in *Spectral Methods for Partial Differential Equations*, ed. Voigt et al., SIAM, 1984. \n",
    "\n",
    "\n",
    "- David Gottlieb and Steven A. Orszag, *Numerical Analysis of Spectral Methods*, SIAM, 1977\n",
    "\n",
    "\n",
    "- Lloyd Nick Trefethen, *Spectral Methods in MATLAB*, SIAM, 2000. Our work here is heavily based on Chapters 6 and 8 of this book. \n",
    "\n",
    "\n",
    "- Lloyd Nick Trefethen, *Approximation Theory and Approximation Practice*, extended edition, SIAM, 2020\n"
   ]
  },
  {
   "cell_type": "markdown",
   "metadata": {},
   "source": [
    "## Background Theory "
   ]
  },
  {
   "cell_type": "markdown",
   "metadata": {},
   "source": [
    "Consider a continuous function $u(x)\\in C\\left([-1,1]\\right)$. Suppose we mesh $[-1,1]$ using $N+1$ Chebyshev points\n",
    "$$\n",
    "x_{j} = \\cos\\left(\\frac{j\\pi}{N}\\right), \\quad j=0,1,2,..., N. \n",
    "$$\n",
    "Note how $x_0 = 1$, $x_N=-1$, so the indexing goes right-to-left. I remark that these are a bit different from the Chebyshev points we used in the Runge phenomenon demo, which corresponded to the roots of the $N^{\\text{th}}$ Chebyshev polynomial \n",
    "$$\n",
    "T_{N}(x) = \\cos\\left(N\\cos^{-1}x\\right). \n",
    "$$\n",
    "Our new Chebyshev points instead correspond to the endpoints of $[-1,1]$ plus the local extremizers of $T_{N}(x)$ (equivalently, the roots of $\\partial_{x}T_{N}$, see the exercise below). This new grid is sometimes called the **Chebyshev-Gauss-Lobatto grid** or the **extreme Chebyshev grid** in the literature. "
   ]
  },
  {
   "cell_type": "markdown",
   "metadata": {},
   "source": [
    "**Pen-and-Paper Exercise**\n",
    "\n",
    "Manually verify that \n",
    "\n",
    "$$\n",
    "\\partial_{x}|_{x=x_{j}} T_{N}(x) = \\begin{cases}\n",
    "\\phantom{(-1)^{N+1}}N^2 \\quad & j =0\n",
    "\\\\ \\\\ \n",
    "(-1)^{N+1}N^2 \\quad & j=N\n",
    "\\\\ \\\\ \n",
    "\\phantom{(-1)^{N+1}}0  \\quad &\\text{otherwise}. \n",
    "\\end{cases}\n",
    "$$\n",
    "\n",
    "*Hint*: remember that $$\n",
    "\\partial_{x}\\cos^{-1}x = -\\frac{1}{\\sqrt{1-x^2}}. \n",
    "$$"
   ]
  },
  {
   "cell_type": "markdown",
   "metadata": {},
   "source": [
    "We then represent $u(x)$ by its samples at the grid points: \n",
    "$$\n",
    "u_j = u\\left(x_{j}\\right). \n",
    "$$\n",
    "Using these samples $\\left\\{u_{j}\\right\\}_{j=0}^{N}$, we let $p[u](x)$ denote the unique degree $N$ polynomial interpolant of $u(x)$. \n",
    "\n",
    "Throughout this demo, we want to construct good approximations of $u_{x}\\left(x_{j}\\right)$. We let $W_{j}$ denote the approximate values of $u_{x}(x_{j})$ obtained via collocation:\n",
    "$$\n",
    "W_{j} =  \\partial_{x}\\left\\{p[u](x)\\right\\} |_{x=x_{j}} \\approx u_{x}\\left(x_{j}\\right). \n",
    "$$\n",
    "There are two nice, nearly-equivalent methods for efficiently computing $W_{j}$ using only the grid and our samples $\\left\\{u_{j}\\right\\}_{j=0}^{N}$. "
   ]
  },
  {
   "cell_type": "markdown",
   "metadata": {},
   "source": [
    "### Spatial Point-of-View "
   ]
  },
  {
   "cell_type": "markdown",
   "metadata": {},
   "source": [
    "This is the more conceptually straightforward option, but it involves a lot of hand computations. We start by noticing that, since $\\partial_{x}$ is a linear map on function space, our discrete derivative\n",
    "$$\n",
    "D_{N} \\colon \\left\\{u_{j}\\right\\}_{j=0}^{N} \\mapsto \\left\\{W_{j}\\right\\}_{j=0}^{N}.\n",
    "$$\n",
    "is also a linear map. In particular, we can represent $D_{N}$ as a matrix of size $(N+1)\\times (N+1)$. Thus, to find $\\left\\{W_{j}\\right\\}_{j=0}^{N}$, it suffices to find the matrix entries\n",
    "$$\n",
    "\\left(D_{N}\\right)_{ij}, \\quad i,j=0,1,...,N\n",
    "$$\n",
    "and then set \n",
    "$$\n",
    "W_{i} = \\sum_{j=0}^{N} \\left(D_{N}\\right)_{ij} u_{j}. \n",
    "$$\n",
    "Naturally, we call $D_{N}$ the **(Chebyshev) differentiation matrix**. "
   ]
  },
  {
   "cell_type": "markdown",
   "metadata": {},
   "source": [
    "Now, we investigate how to find the entries of our differentiation matrix. We start by expressing $p[u](x)$ in a smart way. "
   ]
  },
  {
   "cell_type": "markdown",
   "metadata": {},
   "source": [
    "**Definition**\n",
    "\n",
    "Given a mesh $\\left\\{x_{j}\\right\\}_{j=0}^{N} \\subseteq [-1,1]$, we define its associated\n",
    "**node polynomial** $P(x)\\in C\\left([-1,1]\\right)$ by \n",
    "$$\n",
    "P(x) = \\prod_{k=0}^{N} (x-x_{k}) \n",
    "$$\n",
    "and its \n",
    "**$j^{\\text{th}}$ cardinal function** $p_{j}(x)\\in C\\left([-1,1]\\right)$ by \n",
    "\\begin{equation}\n",
    "\\left\\{\n",
    "\\begin{aligned}\n",
    "p_{j}(x) &= \\frac{1}{a_j}\\frac{P(x)}{x-x_{j}},  \n",
    "\\\\ \\\\\n",
    "a_{j} &= \\prod_{k=0 \\\\ k\\neq j}^{N} (x_{j}-x_{k}). \n",
    "\\end{aligned}\n",
    "\\right.\n",
    "\\end{equation}\n"
   ]
  },
  {
   "cell_type": "markdown",
   "metadata": {},
   "source": [
    "Note in particular that the cardinal functions satisfy \n",
    "$$\n",
    "p_{j}\\left(x_{k}\\right) = \\delta_{jk}. \n",
    "$$\n",
    "So, cardinal functions are like polynomial $\\delta$-functions on our grid. This means that we can express $p[u](x)$ as \n",
    "$$\n",
    "p[u](x) = \\sum_{j=0}^{N} u_{j} p_{j}(x). \n",
    "$$\n",
    "Accordingly, \n",
    "$$\n",
    "W_{i} = \\partial_{x}\\left\\{p[u](x)\\right\\}|_{x=x_{i}} = \\sum_{j=0}^{N} u_{j} \\partial_{x}\\left\\{p_{j}(x)\\right\\}|_{x=x_{i}}. \n",
    "$$\n",
    "We conclude that \n",
    "$$\n",
    "\\left(D_{N}\\right)_{ij} = \\partial_{x}\\left\\{p_{j}(x)\\right\\}|_{x=x_{i}}. \n",
    "$$\n",
    "We use the above result to find $D_{N}$ explicitly in two steps. We first derive formulas for $D_{N}$ on a general grid, then we specialize to Chebyshev grids.  "
   ]
  },
  {
   "cell_type": "markdown",
   "metadata": {},
   "source": [
    "**Proposition**\n",
    "\n",
    "For a general grid $\\left\\{x_{j}\\right\\}_{j=0}^{N}\\subseteq [-1,1]$, \n",
    "\n",
    "\\begin{equation}\n",
    "\\left(D_{N}\\right)_{ij} = \\begin{cases}\n",
    "\\frac{a_{i}}{a_{j}(x_{i}-x_{j})} \\quad \\ \\ \\quad i\\neq j,\n",
    "\\\\ \\\\ \n",
    "\\sum_{k=0 \\\\ k\\neq j}^{N} \\frac{1}{x_{j}-x_{k}} \\quad i=j. \n",
    "\\end{cases}\n",
    "\\end{equation}\n",
    "\n",
    "Alternatively, the diagonal entries can be expressed in terms of the node polynomial:\n",
    "\n",
    "\\begin{equation}\n",
    "\\left(D_{N}\\right)_{jj}  = \\frac{1}{2a_{j}}\\partial_{x}^2|_{x=x_{j}}P(x). \n",
    "\\end{equation}"
   ]
  },
  {
   "cell_type": "markdown",
   "metadata": {},
   "source": [
    "*Proof*\n",
    "\n",
    "Logarithmic differentiation shows that \n",
    "\n",
    "$$\n",
    "\\partial_{x}p_{j}(x) = p_{j}(x)\\sum_{k=0\\\\ k\\neq j}^{N} \\frac{1}{x-x_{k}}. \n",
    "$$\n",
    "\n",
    "At first glance, this expression only makes sense at $x_{j}$ and no other grid points. In particular, for $i=j$ we can just plug in to obtain \n",
    "\n",
    "$$\n",
    "\\left(D_{N}\\right)_{jj} = \\partial_{x}p_{j}(x_j) = \\delta_{jj} \\sum_{k=0\\\\ k\\neq j}^{N} \\frac{1}{x_{j}-x_{k}} = \\sum_{k=0\\\\ k\\neq j}^{N} \\frac{1}{x_{j}-x_{k}}\n",
    "$$\n",
    "\n",
    "as claimed. \n",
    "\n",
    "Now we turn to the slightly more difficult case $i\\neq j$. The apparent singularities in our formula for $\\partial_{x}p_{j}(x)$ can actually be removed: if we are interested in evaluating $\\partial_{x}p_{j}(x)$ at $x=x_{i}\\neq x_{j}$ to compute $\\left(D_{N}\\right)_{ij}$, we re-write the above as \n",
    "\n",
    "\\begin{align*}\n",
    "\\partial_{x}p_{j}(x) &= p_{j}(x)\\sum_{k=0 \\\\ k\\neq i,j}^{N} \\frac{1}{x-x_{k}} + \\frac{p_j(x)}{x-x_{i}}\n",
    "\\\\\n",
    "&= p_{j}(x)\\sum_{k=0 \\\\ k\\neq i,j}^{N}  \\frac{1}{x-x_{k}} + \\frac{1}{a_j} \\prod_{k=0 \\\\ k\\neq i,j}^{N}(x-x_k).\n",
    "\\end{align*}\n",
    "\n",
    "From here, the singularity at $x=x_{i}$ has been removed and we can plug in $x=x_{i}$ to obtain \n",
    "\n",
    "\\begin{align*}\n",
    "\\left(D_{N}\\right)_{ij} = \\delta_{ij}\\sum_{k=0 \\\\ k\\neq i,j}^{N}  \\frac{1}{x_{i}-x_{k}} + \\frac{1}{a_j} \\prod_{k=0 \\\\ k\\neq i,j}^{N}(x_{i}-x_k) = \\frac{1}{a_j} \\prod_{k=0 \\\\ k\\neq i,j}^{N}(x_{i}-x_k), \n",
    "\\end{align*}\n",
    "\n",
    "where we have also used $i\\neq j$. The first part of the proof is complete upon recalling that \n",
    "\n",
    "$$\n",
    "\\frac{a_i}{x_i-x_j} = \\frac{1}{x_i-x_j} \\prod_{k=0\\\\ k\\neq i}^{N}(x_i-x_k) = \\prod_{k=0\\\\ k\\neq i,j}^{N}(x_i-x_k). \n",
    "$$\n",
    "\n",
    "Finally, we establish the alternative formula for the diagonal entries. We have by L'Hospital's rule that \n",
    "\\begin{align*}\n",
    "\\left(D_{N}\\right)_{jj} &= \\frac{1}{a_{j}} \\lim_{x\\rightarrow x_{j}} \\partial_{x}\\left(\\frac{P(x)}{x-x_{j}}\\right)\n",
    "\\\\ \\\\\n",
    "&= \\frac{1}{a_{j}} \\lim_{x\\rightarrow x_{j}} \\frac{(x-x_{j})\\partial_{x}P(x)-P(x)}{\\left(x-x_{j}\\right)^2}\n",
    "\\\\\n",
    "\\\\\n",
    "&= \\frac{1}{2a_{j}} \\lim_{x\\rightarrow x_{j}} \\frac{ (x-x_{j})\\partial_{x}^2P(x)}{x-x_{j}}\n",
    "\\\\\n",
    "\\\\\n",
    "&= \\frac{1}{2a_{j}}\\partial_{x}^2|_{x=x_{j}} P(x)\n",
    "\\end{align*}\n",
    "as claimed. Strictly speaking, for $j=0,N$ we should only use left/right-handed limits respectively, but this does not change the substance of the proof. "
   ]
  },
  {
   "cell_type": "markdown",
   "metadata": {},
   "source": [
    "With all of these results at hand, we can specialize to the Chebyshev grid. We start by (almost) explicitly writing out the important polynomials associated to our grid. "
   ]
  },
  {
   "cell_type": "markdown",
   "metadata": {},
   "source": [
    "**Lemma** \n",
    "\n",
    "For the Chebyshev grid, there is a constant $K\\in \\mathbb{R}$ such that the node polynomial is given by \n",
    "\n",
    "$$\n",
    "P(x) = -K(1-x^2) \\partial_{x}T_{N}(x).\n",
    "$$\n",
    "\n",
    "Further, if we let\n",
    "$$\n",
    "c_{i} \\doteq \\begin{cases} \n",
    "2 \\quad i=0,N,\n",
    "\\\\ \\\\ \n",
    "1 \\quad \\text{else},\n",
    "\\end{cases}\n",
    "$$\n",
    "then the $a_{j}$'s and $p_{j}$'s are given by the formulas\n",
    "\n",
    "\\begin{align*}\n",
    "a_{j} &= (-1)^{j}N^2c_{j}K,\n",
    "\\\\ \\\\ \n",
    "p_{j} &= \\frac{(-1)^{j+1}}{N^2 c_{j}}\\frac{(1-x^2)\\partial_{x}T_{N}(x)}{x-x_{j}}. \n",
    "\\end{align*}"
   ]
  },
  {
   "cell_type": "markdown",
   "metadata": {},
   "source": [
    "*Proof*\n",
    "\n",
    "From an earlier exercise, we know that $\\partial_{x}T_{N}$ has $N-1$ roots at the interior grid points. This makes the claimed form of $P(x)$ trivial to prove. \n",
    "\n",
    "Using the already-established form of $P(x)$ and the definition of $p_{j}$, the proof will be done once we compute the $a_{j}$'s. Let's examine the case $j\\neq 0,N$ first. We have using L'Hospital's rule that\n",
    "\\begin{align*}\n",
    "a_{j} &= \\lim_{x\\rightarrow x_{j}} \\frac{P(x)}{x-x_{j}}\n",
    "\\\\\n",
    "\\\\\n",
    "&= -K\\left(1-x_{j}^2\\right) \\lim_{x\\rightarrow x_{j}} \\frac{\\partial_{x}T_{N}(x)}{x-x_{j}}\n",
    " \\\\\n",
    " \\\\\n",
    " &= -KN\\left(1-x_{j}^2\\right)^{1/2} \\lim_{x\\rightarrow x_{j}} \\frac{\\sin\\left(N\\cos^{-1}x\\right)}{x-x_{j}}\n",
    "\\\\\n",
    "\\\\\n",
    "&= KN^2 T_{N}(x_{j})\n",
    "\\\\\n",
    "\\\\\n",
    "&= (-1)^{j}N^2 K\n",
    "\\end{align*}\n",
    "as desired. \n",
    "\n",
    "For $j=0$, we instead have\n",
    "\n",
    "\\begin{align*}\n",
    "a_{0} &= \\lim_{x\\rightarrow 1^{-}} \\frac{P(x)}{x-1}\n",
    "\\\\\n",
    "\\\\\n",
    "&= -K\\lim_{x\\rightarrow 1^{-}} \\frac{\\left(1-x^2\\right) \\partial_{x}T_{N}(x)}{x-1}\n",
    " \\\\\n",
    " \\\\\n",
    " &= K\\lim_{x\\rightarrow 1^{-}} (1+x) \\partial_{x}T_{N}(x)\n",
    " \\\\\n",
    " \\\\\n",
    " &= 2N^2(-1)^{0} K,\n",
    "\\end{align*}\n",
    "where we have used an earlier exercise to pass from the second-last line to the last line. Similarly, for $j=N$ we have \n",
    "\\begin{align*}\n",
    "a_{N} &= \\lim_{x\\rightarrow -1^{+}} \\frac{P(x)}{x-1}\n",
    "\\\\\n",
    "\\\\\n",
    "&= -K\\lim_{x\\rightarrow -1^{+}} \\frac{\\left(1-x^2\\right) \\partial_{x}T_{N}(x)}{x+1}\n",
    " \\\\\n",
    " \\\\\n",
    " &= -K\\lim_{x\\rightarrow -1^{+}} (1-x) \\partial_{x}T_{N}(x)\n",
    " \\\\\n",
    " \\\\\n",
    " &= 2N^2(-1)^{N}K\n",
    "\\end{align*}\n",
    "using the same exercise we used to handle $j=0$. "
   ]
  },
  {
   "cell_type": "markdown",
   "metadata": {},
   "source": [
    "**Pen-and-Paper Exercise**\n",
    "\n",
    "Prove that the normalizing constant $K$ is, in fact, strictly positive. *Hint*: use the Chebyshev recurrence relation.  "
   ]
  },
  {
   "cell_type": "markdown",
   "metadata": {},
   "source": [
    "**Corollary**\n",
    "\n",
    "Define \n",
    "\n",
    "$$\n",
    "c_{i} = \\begin{cases} \n",
    "2 \\quad i=0,N,\n",
    "\\\\ \\\\ \n",
    "1 \\quad \\text{else}. \n",
    "\\end{cases}\n",
    "$$\n",
    "\n",
    "For the Chebyshev grid $\\left\\{x_{j}\\right\\}_{j=0}^{N}\\subseteq [-1,1]$, we have\n",
    "\n",
    "\\begin{equation}\n",
    "\\left(D_{N}\\right)_{ij} = \\begin{cases}\n",
    "\\phantom{-}\\frac{2N^2+1}{6} \\quad \\ \\ \\ \\quad i= j =0,\n",
    "\\\\ \\\\\n",
    "-\\frac{2N^2+1}{6} \\quad \\ \\ \\ \\quad i= j =N,\n",
    "\\\\ \\\\ \n",
    "-\\frac{x_{j}}{2(1-x_{j}^2)} \\quad \\ \\ \\quad 1\\leq i= j \\leq N-1, \n",
    "\\\\ \\\\\n",
    "\\frac{c_i}{c_j} \\frac{(-1)^{i+j}}{x_i-x_j} \\quad \\ \\ \\ \\quad \\text{else}. \n",
    "\\end{cases}\n",
    "\\end{equation}"
   ]
  },
  {
   "cell_type": "markdown",
   "metadata": {},
   "source": [
    "*Proof* \n",
    "\n",
    "Establishing the claimed formula for the off-diagonal entries is trivial using the previous proposition and lemma. \n",
    "\n",
    "If $i=j\\neq 0,N$, then we must have \n",
    "\n",
    "$$\n",
    "\\left(D_{N}\\right)_{jj} = \\frac{1}{2(-1)^{j}N^2 K} \\partial_{x}^2|_{x=x_{j}} P(x). \n",
    "$$\n",
    "\n",
    "Using that the Chebyshev polynomials satisfy the ODE\n",
    "\n",
    "$$\n",
    "(1-x^2)\\partial_{x}^2T_{N}(x) -x\\partial_{x}T_{N}(x)+N^2 T_{N}(x) =0,\n",
    "$$\n",
    "\n",
    "(quickly prove this for yourself if you haven't seen it before), we find that \n",
    "\n",
    "\\begin{align*}\n",
    "\\frac{1}{K}\\partial_{x}^2 P(x) &= -\\partial_{x}^2\\left[\\left(1-x^2\\right)\\partial_{x}T_{N}(x)\\right]\n",
    "\\\\ \\\\ \n",
    "&=-\\partial_{x}\\left[ -2x\\partial_{x}T_{N}(x) +(1-x^2)\\partial_{x}^2T_{N}(x)\\right]\n",
    "\\\\ \\\\\n",
    "&= -\\partial_{x}\\left[ -N^2 T_{N}(x)-x\\partial_{x}T_{N}(x)\\right]\n",
    "\\\\ \\\\ \n",
    "&= \\left(N^2+1\\right) \\partial_{x}T_{N}(x) + x\\partial_{x}^2 T_{N}\n",
    "\\\\ \\\\\n",
    "&= \\left(N^2+1\\right) \\partial_{x}T_{N}(x) + \\frac{x}{1-x^2}\\left[x\\partial_{x}T_{N}-N^2T_{N}(x)\\right]\n",
    "\\end{align*}\n",
    "hence \n",
    "$$\n",
    "\\partial_{x}^2|_{x=x_{j}} P(x) = \\left(-1\\right)^{j+1}N^2 K \\ \\frac{x_j}{1-x_j^2}.\n",
    "$$\n",
    "Plugging this into our formula for the differentiation matrix entry, we have \n",
    "\n",
    "$$\n",
    "\\left(D_{N}\\right)_{jj} = -\\frac{x_{j}}{2(1-x_j^2)} \\quad \\forall \\ j=1,2,..,N-1. \n",
    "$$\n",
    "\n",
    "Next, we know that \n",
    "$$\n",
    "\\left(D_{N}\\right)_{00} = \\frac{1}{4 N^2 K} \\partial_{x}^2|_{x=1} P(x). \n",
    "$$\n",
    "From our computations above,\n",
    "\\begin{align*}\n",
    " \\frac{1}{K}\\partial_{x}^2|_{x=1} P(x) &= \\left\\{ \\left(N^2+1\\right) \\partial_{x}T_{N}(x) + \\frac{x}{1-x^2}\\left[x\\partial_{x}T_{N}-N^2T_{N}(x)\\right]\\right\\}_{x=1}\n",
    " \\\\\n",
    " &= N^2\\left(N^2+1\\right) + \\left\\{\\frac{x}{1-x^2}\\left[x\\partial_{x}T_{N}-N^2T_{N}(x)\\right]\\right\\}_{x=1}. \n",
    "\\end{align*}\n",
    "\n",
    "\n",
    "We use L'Hospital's rule to evaluate the term in curly braces, leaving out the extra insignificant $x$ upstairs: \n",
    "\\begin{align*}\n",
    "\\lim_{x\\rightarrow 1^{-}} \\frac{1}{1-x^2}\\left[x\\partial_{x}T_{N}-N^2T_{N}(x)\\right] &= \\frac13 N^2(N^2-1). \n",
    "\\end{align*}\n",
    "\n",
    "Then, \n",
    "\n",
    "$$\n",
    "\\left(D_{N}\\right)_{00} = \\frac{1}{4 N^2} \\left[N^2\\left(N^2+1\\right) + \\frac13 N^2(N^2-1)\\right]  = \\frac{2N^2 +1}{6}. \n",
    "$$\n",
    "\n",
    "A similar strategy works for $\\left(D_{N}\\right)_{NN}$.  \n"
   ]
  },
  {
   "cell_type": "markdown",
   "metadata": {},
   "source": [
    "For examples of differentiation matrices on different grids (including the Legendre nodes), see the appendices of Boyd. "
   ]
  },
  {
   "cell_type": "markdown",
   "metadata": {},
   "source": [
    "**Pen-and-Paper Exercise**\n",
    "\n",
    "a) Fill in the gaps in the above proof, including the verification of $\\left(D_{N}\\right)_{NN}$. \n",
    "\n",
    "b) Explain how to prove the claim without using the proposition on differentiation matrices for arbitrary grids. Give at least a sketch of the proof with some example computations. If you get stuck with the calculations, have a look at Shigenobu Itoh's unpublished lecture notes at https://micronanopi.net/Chebyshev/CDM/Derivation_CDM_B.pdf . \n"
   ]
  },
  {
   "cell_type": "markdown",
   "metadata": {},
   "source": [
    "### Fourier Point-of-View"
   ]
  },
  {
   "cell_type": "markdown",
   "metadata": {},
   "source": [
    "Chebyshev spectral differentiation can also be executed using the DFT. We start with a definition. "
   ]
  },
  {
   "cell_type": "markdown",
   "metadata": {},
   "source": [
    "**Definition**\n",
    "\n",
    "If $u\\in C\\left([-1,1]\\right)$, then we define \n",
    "$$\n",
    "u^{E} \\in C\\left(S^1\\right)\n",
    "$$\n",
    "by \n",
    "$$\n",
    "u^{E}(z) = u\\left(\\text{Re} \\ z\\right). \n",
    "$$\n",
    "In angular coordinates, \n",
    "$$\n",
    "u^{E}(\\theta) = u\\left(\\cos\\theta\\right). \n",
    "$$"
   ]
  },
  {
   "cell_type": "markdown",
   "metadata": {},
   "source": [
    "In practice, think of $u^{E}$ as the even extension of $u(x)$ to the entire unit circle. More precisely, note that any function $u\\in C\\left([-1,1]\\right)$ defines another function on the upper half-circle $\\left\\{|z|=1, \\ \\text{Im} \\ z \\geq0\\right\\}$ according to \n",
    "$$ z \\mapsto u\\left(\\text{Re} \\ z\\right). $$\n",
    "$u^{E}$ is then the even extension of this function to the entirety of $S^1$. "
   ]
  },
  {
   "cell_type": "markdown",
   "metadata": {},
   "source": [
    "The advantage of working on $S^1$ instead of $[-1,1]$ is that we have access to a Fourier transform on $S^1$, which naturally gives rise to the discrete Fourier transform (DFT) acting on function samples at the nodes of a uniform mesh of $S^1$. In our demo on spectral differentiation of periodic functions (equivalent to functions on $S^1$), we saw that one could accurately approximate derivatives by taking the DFT of our function samples (implemented via the FFT), multiplying the result entry-wise by the sequence $k\\mapsto ik$, and then taking the inverse DFT (implemented via the IFFT). So, numerically evaluating the derivatives of $\\partial_{\\theta}u^{E}$ to high accuracy is easy. What remains is to show how these approximations translate to approximations of $\\partial_{x}u$. "
   ]
  },
  {
   "cell_type": "markdown",
   "metadata": {},
   "source": [
    "Let's start by setting up some notation. First, notice that if we're sampling $u(x)$ on $[-1,1]$ using $N+1$ Chebyshev grid points, then we should sample $u^{E}\\left(\\theta\\right)$ using $2N$ grid points uniformly distributed around the circle. The reason why we add extra samples is easy to understand: the samples $u_{j}$ correspond to samples of $u^{E}(\\theta)$ at \n",
    "$$\n",
    "\\theta_{j} = \\frac{j\\pi}{N}, \\quad j=0,1,...,N,\n",
    "$$\n",
    "and since $u^{E}$ is even with respect to reflections about $\\left\\{\\theta=0\\right\\}$ these samples also give the values of $u^{E}$ at\n",
    "$$\n",
    "\\theta_{j} = \\frac{j\\pi}{N}, \\quad j=N+1,...,2N-1\n",
    "$$\n",
    "(remember not to double-count $\\theta=0,\\pi$ mod $2\\pi$!), for a total of $2N$ samples of $u^{E}$. That is, we have \n",
    "$$\n",
    "u^{E}_{j} = \\begin{cases}\n",
    "u_{j} \\quad \\quad \\ \\ j=0,...,N\n",
    "\\\\ \\\\ \n",
    "u_{2N-j} \\quad j=N+1,...,2N-1\n",
    "\\end{cases}\n",
    "$$\n",
    "or, in array notation,\n",
    "$$ \\left\\{u^{E}_{j}\\right\\}_{j=0}^{2N-1} = \\left[u_0, u_1,...,u_{N-1}, u_{N}, u_{N-1}, u_{N-2}, ..., u_{2}, u_{1}\\right].$$\n",
    "Note that, in the code below, we denote $u^{E}_{j}$ by $\\texttt{V[j]}$."
   ]
  },
  {
   "cell_type": "markdown",
   "metadata": {},
   "source": [
    "Now that we have set up our conventions for sampling the extension $u^{E}$, we get into the meat of the differentiation algorithm. The DFT of these samples is \n",
    "$$\n",
    "\\left(\\widehat{u^{E}}\\right)_{k} = \\sum_{j=0}^{2N-1} e^{-ik\\frac{j\\pi}{N}} u^{E}_{j}, \\quad k=0, ..., 2N-1. \n",
    "$$ \n",
    "As we have learned already, we have \n",
    "$$\n",
    "\\partial_{\\theta}u^{E}\\left(\\frac{j\\pi}{N}\\right) \\approx U_{j} \\doteq \\left(\\left\\{ik\\left(\\widehat{u^{E}}\\right)_{k}\\right\\}_{k=0}^{2N-1}\\right)^{\\vee}\n",
    "$$\n",
    "with high accuracy: recall that the $\\vee$ denotes the inverse DFT: \n",
    "$$\n",
    "{v}_{\\ell}^{\\vee} = \\frac{1}{2N} \\sum_{k=0}^{2N-1}e^{ik\\frac{\\ell \\pi}{N}} v_{k}. \n",
    "$$"
   ]
  },
  {
   "cell_type": "markdown",
   "metadata": {},
   "source": [
    "Note that \n",
    "$$\n",
    "U_{j} = \\partial_{\\theta}\\left\\{p\\left[u^{E}\\right]\\right\\}\\big|_{\\theta=\\frac{j\\pi}{N}}, \n",
    "$$\n",
    "where similarly to the purely spatial case we let $p\\left[u^{E}\\right]$ denote the trigonometric polynomial interpolating $u^{E}$ on our chosen uniform mesh. As long as $\\theta\\notin \\pi \\mathbb{Z},$ we have by the Chain Rule that\n",
    "$$\n",
    "\\partial_{x} p[u](x) = \\frac{\\partial_{\\theta}\\left\\{p\\left[u^{E}\\right]\\right\\}}{\\partial_{x}\\theta} = -\\frac{\\partial_{\\theta}\\left\\{p\\left[u^{E}\\right]\\right\\}}{\\sin\\theta}. \n",
    "$$\n",
    "Fixing $j=1,...,N-1$, plugging\n",
    "$$\n",
    "\\theta= \\frac{j\\pi}{N}\n",
    "$$\n",
    "into the above, and using Pythagoras' theorem gives\n",
    "$$\n",
    "\\partial_{x}\\left\\{ p[u](x)\\right\\}|_{x=x_{j}} = \\frac{-U_{j}}{\\sqrt{1-x_j^2}}. \n",
    "$$\n",
    "By the collocation principle for estimating derivatives, this means we should set \n",
    "$$\n",
    "u_{x}\\left(x_{j}\\right) \\approx W_{j} = \\frac{-U_{j}}{\\sqrt{1-x_j^2}} .\n",
    "$$\n",
    "This is great news: the $W_{j}$'s can be computed by simply extending our samples of $u(x)$, then following the recipe for Fourier spectral differentiation. "
   ]
  },
  {
   "cell_type": "markdown",
   "metadata": {},
   "source": [
    "Unfortunately, the above analysis fails at the boundary points $x=\\pm 1$, corresponding to $\\theta=0,\\pi$ or $j=0, N$. We need to be a little more clever to estimate the boundary values of $u_{x}$. "
   ]
  },
  {
   "cell_type": "markdown",
   "metadata": {},
   "source": [
    "Recalling that $p[u]$ denotes the $(N+1)$-point interpolant of $u(x)$ at the Chebyshev nodes, we know there are unique $a_{0}, ..., a_{N}$ such that \n",
    "$$\n",
    "p[u] = \\sum_{n=0}^{N} a_{n} T_{n}(x). \n",
    "$$\n",
    "Additionally, by the defining property of Chebyshev polynomials, we have \n",
    "$$\n",
    "p[u]^{E}(\\theta) = \\sum_{n=0}^{N} a_{n} \\cos\\left(n\\theta\\right).\n",
    "$$\n",
    "Therefore, the extension of our interpolant is little more than a truncated Fourier cosine series. By uniqueness of trigonometric interpolants (the finite version of Fourier series uniqueness), we must have \n",
    "$$\n",
    "p[u]^{E}(\\theta) = p\\left[u^{E}\\right](\\theta)\n",
    "$$\n",
    "hence \n",
    "$$\n",
    "\\sum_{n=0}^{N} a_{n} \\cos\\left(n\\theta\\right) = \\frac{1}{2N} \\sum_{k=0}^{2N-1} e^{ik\\theta}\\left(\\widehat{u^{E}}\\right)_{k} = \\frac{1}{2N}\\left\\{\\left(\\widehat{u^{E}}\\right)_{0} + 2\\sum_{k=1}^{N-1} \\left(\\widehat{u^{E}}\\right)_{k} \\cos(k\\theta)+ \\left(\\widehat{u^{E}}\\right)_{N}\\right\\}.\n",
    "$$\n",
    "\n",
    "Comparing coefficients gives \n",
    "\n",
    "$$\n",
    "a_{n} = \\begin{cases}\n",
    "\\frac{1}{2N} \\left(\\widehat{u^{E}}\\right)_{n} \\quad n=0,N,\n",
    "\\\\ \\\\ \n",
    " \\frac{1}{N}\\left(\\widehat{u^{E}}\\right)_{n} \\quad \\ \\text{else}. \n",
    "\\end{cases}\n",
    "$$\n",
    "From a computational perspective, these formulas are good news: we have computed all the $\\left(\\widehat{u^{E}}\\right)_{n}$'s when evaluating the interior derivative values, so no substantial extra computer work has to be done to determine the $a_{n}$'s. \n"
   ]
  },
  {
   "cell_type": "markdown",
   "metadata": {},
   "source": [
    "Returning to our Chain Rule expression for $\\partial_{x}p[u]$, we find \n",
    "$$\n",
    "\\partial_{x} p[u](x) = \\left(1-x^2\\right)^{-\\frac12}\\sum_{n=1}^{N-1} n\\left(\\widehat{u^{E}}\\right)_{n} \\sin\\left(n\\cos^{-1}(x)\\right)+ \\frac12 N\\left(\\widehat{u^{E}}\\right)_{N}\\sin\\left(N\\cos^{-1}(x)\\right) .\n",
    "$$\n",
    "We thus turn to computing \n",
    "$$\n",
    "\\lim_{x\\rightarrow \\pm 1^{\\mp}}\\frac{\\sin\\left(n\\cos^{-1}(x)\\right) }{\\sqrt{1-x^2}} \\quad \\forall  \\ n =1,2,...,N.\n",
    "$$\n",
    "From the first pen-and-paper exercise in this demo, we know\n",
    "$$\n",
    "\\lim_{x\\rightarrow \\pm 1^{\\mp}}\\frac{\\sin\\left(n\\cos^{-1}(x)\\right) }{\\sqrt{1-x^2}} = \\begin{cases}\n",
    "\\phantom{(-1)^{n+1}}n  \\quad \\text{if} \\quad x\\rightarrow +1^{-}\n",
    "\\\\ \\\\\n",
    "(-1)^{n+1}n\\quad \\text{if} \\quad x\\rightarrow -1^{+}. \n",
    "\\end{cases}\n",
    "$$\n",
    "This in turn yields the estimates\n",
    "\\begin{align*}\n",
    "\\partial_{x}u\\left(x_0\\right) &\\approx W_{0} =  \\frac{1}{N}\\left\\{\\frac12 N^2 \\left(\\widehat{u^{E}}\\right)_{N} + \\sum_{n=1}^{N-1}n^2\\left(\\widehat{u^{E}}\\right)_{n}  \\right\\}\n",
    "\\\\\n",
    "\\partial_{x}u\\left(x_N\\right) &\\approx W_{N} = - \\frac{1}{N}\\left\\{\\frac12 (-1)^{N} N^2 \\left(\\widehat{u^{E}}\\right)_{N} + \\sum_{n=1}^{N-1}(-1)^{n}n^2\\left(\\widehat{u^{E}}\\right)_{n}  \\right\\}. \n",
    "\\end{align*}\n",
    "Combining the above two expressions with the interior derivatives obtained earlier (in terms of the $U_{j}$'s), we have completely described our DFT-based scheme for Chebyshev differentiation. "
   ]
  },
  {
   "cell_type": "markdown",
   "metadata": {},
   "source": [
    "**Pen-and-Paper Exercise**\n",
    "\n",
    "a) Prove the discrete orthogonality relations \n",
    "\n",
    "$$\n",
    "\\sum_{n=1}^{N-1} \\cos\\left(\\frac{nj\\pi}{N}\\right) \\ \\cos\\left(\\frac{nk\\pi}{N}\\right) = \n",
    "\\begin{cases}\n",
    "N \\quad j=k=0 \\ \\text{or} \\ N\n",
    "\\\\ \\\\\n",
    "\\frac{N}{2}\\quad j=k\\neq 0,N \n",
    "\\\\ \\\\\n",
    "0 \\quad \\ \\ j\\neq k. \n",
    "\\end{cases}\n",
    "$$\n",
    "\n",
    "*Hint:* use Euler's formula for cosine. You will have to sum many geometric series along the way. See https://math.stackexchange.com/questions/1880622/orthogonality-of-discrete-sine-functions if you get stuck. \n",
    "\n",
    "b) Show that the cardinal functions of the Chebyshev grid can be expressed in terms of Chebyshev polynomials as \n",
    "\n",
    "$$\n",
    "p_{j}(x) = \\sum_{n=0}^{N}\\frac{2T_{n}(x_{j})}{Nc_{n}c_{j}} \\ T_{n}(x), \\quad j=0,...,N .  \n",
    "$$"
   ]
  },
  {
   "cell_type": "markdown",
   "metadata": {},
   "source": [
    "TODO: some discussion presenting pros and cons of spatial versus FFT-based Chebyshev differentiation? Rough operation counts for each? Other remarks on efficiency ie. using cosine transforms instead of full FFTs etc? "
   ]
  },
  {
   "cell_type": "markdown",
   "metadata": {},
   "source": [
    "## Numerical Examples"
   ]
  },
  {
   "cell_type": "markdown",
   "metadata": {},
   "source": [
    "First, we define the function \n",
    "$$ u(x) = e^{x}\\sin(5x) $$\n",
    "whose derivative $u_{x}$ we seek to approximate. Of course, for such a nice function we know its derivative exactly,\n",
    "$$\n",
    "u_{x}(x) = u(x) + 5e^{x}\\cos(5x),\n",
    "$$\n",
    "so computing the error in approximation of $u_{x}$ is easy. \n",
    "\n",
    "TODO: add options for rougher functions so one can investigate rates of convergence etc. "
   ]
  },
  {
   "cell_type": "code",
   "execution_count": 2,
   "metadata": {},
   "outputs": [],
   "source": [
    "def test_fnc(x):\n",
    "    \n",
    "    out = np.exp(x)*np.sin(5.*x)\n",
    "    \n",
    "    return out\n",
    "\n",
    "def test_fnc_prime(x):\n",
    "    \n",
    "    out = test_fnc(x) + 5.*np.exp(x)*np.cos(5.*x)\n",
    "        \n",
    "    return out "
   ]
  },
  {
   "cell_type": "markdown",
   "metadata": {},
   "source": [
    "We need subroutines for assembling Chebyshev grids and Chebyshev differentiation matrices. The grid can be assembled using a modification of the function $\\texttt{chebnodes}$ we wrote when examining the Runge phenomenon. "
   ]
  },
  {
   "cell_type": "code",
   "execution_count": 3,
   "metadata": {},
   "outputs": [],
   "source": [
    "def chebnodes(N):\n",
    "# spits out an array of the n^th Chebyshev nodes in [-1,1]. NOTE: the output is arranged so \n",
    "# x[-1] = -1, x[0]=1. In other words, the grid is presented right-to-left instead.\n",
    "# This is consistent with the convention in Trefethen's book\n",
    "\n",
    "    theta = (np.pi/(N))*np.arange(0,N+1, dtype=int)\n",
    "    \n",
    "    x = np.cos(theta)\n",
    "    \n",
    "    return x"
   ]
  },
  {
   "cell_type": "markdown",
   "metadata": {},
   "source": [
    "Using the grid generation function $\\texttt{chebnodes}$, we can create our two differentiation matrices. We start with the finite difference differentiation matrix on the Chebyshev grid. "
   ]
  },
  {
   "cell_type": "code",
   "execution_count": 4,
   "metadata": {},
   "outputs": [],
   "source": [
    "def D_fd(N):\n",
    "    # finite difference differentiation matrix\n",
    "    \n",
    "    # TODO: clean this and try to vectorize as much as possible!\n",
    "    \n",
    "    # first get Cheb nodes\n",
    "    x = chebnodes(N)\n",
    "    \n",
    "    # grid spacings \n",
    "    h = np.zeros(N+1, dtype='float')\n",
    "    \n",
    "    h[0:-1] = x[0:-1]-x[1:]\n",
    "        \n",
    "    h[-1] = x[-1]-x[-2]   \n",
    "        \n",
    "    # forward fd until we hit the left endpoint x=-1\n",
    "    D = sparse.diags([1.*np.ones(N+1),-1*np.ones(N)], [0,1], shape=(N+1,N+1)).toarray()\n",
    "    \n",
    "    # backward fd at x=-1\n",
    "    D[-1,-1] = 1. \n",
    "    \n",
    "    D[-1,-2] = -1. \n",
    "    \n",
    "    for n in np.arange(0,N+1):\n",
    "    \n",
    "        D[n,:]/=h[n]\n",
    "    \n",
    "    return D"
   ]
  },
  {
   "cell_type": "markdown",
   "metadata": {},
   "source": [
    "Now, we define the Chebsyhev differentiation matrix. This is a little more difficult than coding up the finite difference matrix, but it still does not use anything more complicated than our grid generator $\\texttt{chebnodes}$ and NumPy's basic array manipulation functions. "
   ]
  },
  {
   "cell_type": "code",
   "execution_count": 5,
   "metadata": {},
   "outputs": [],
   "source": [
    "def chebdiff(N):\n",
    "# spits out N+1 x N+1 Chebyshev differentiation matrix \n",
    "# TODO: this is pretty much just copied from Trefethen Ch.6 and Pythonized... \n",
    "# make sure you understand what is actually going on!\n",
    "    \n",
    "    c = np.ones([N+1,1])\n",
    "    \n",
    "    c[0] = 2.\n",
    "    \n",
    "    c[-1] = 2. \n",
    "    \n",
    "    c = (c*(-1)**np.arange(0,N+1)).T\n",
    "    \n",
    "    x = chebnodes(N)\n",
    "        \n",
    "    X = np.tile(x,[N+1,1])\n",
    "    \n",
    "    dX = X - X.T\n",
    "        \n",
    "    D = c*(1./c.T)/(dX + np.identity(N+1))\n",
    "        \n",
    "    D -= np.diag(np.sum(D.T, axis=1))\n",
    "    \n",
    "    return D.T"
   ]
  },
  {
   "cell_type": "markdown",
   "metadata": {},
   "source": [
    "We test the Chebyshev differentiation matrix on our function $u(x)$ below. "
   ]
  },
  {
   "cell_type": "code",
   "execution_count": 6,
   "metadata": {},
   "outputs": [],
   "source": [
    "xx= np.linspace(-1, 1, 100)\n",
    "uu= test_fnc(xx)\n",
    "\n",
    "N = 20\n",
    "\n",
    "x = chebnodes(N)\n",
    "u = test_fnc(x)\n",
    "ux = test_fnc_prime(x) # exact derivative evaluated at grid points\n",
    "\n",
    "D = chebdiff(N)\n",
    "\n",
    "error = np.abs(D@u - ux)"
   ]
  },
  {
   "cell_type": "code",
   "execution_count": 7,
   "metadata": {},
   "outputs": [
    {
     "data": {
      "image/png": "[encoded data removed]",
      "text/plain": [
       "<Figure size 576x432 with 1 Axes>"
      ]
     },
     "metadata": {
      "image/png": {
       "height": 382,
       "width": 535
      },
      "needs_background": "dark"
     },
     "output_type": "display_data"
    }
   ],
   "source": [
    "fig, ax =plt.subplots()\n",
    "plt.rc('text', usetex=True)\n",
    "plt.rc('font', family='serif')\n",
    "\n",
    "plt.plot(x, 1e10*error, '.', markersize='10', color='xkcd:carnation', ) \n",
    "plt.plot(x, 1e10*error, color='xkcd:carnation', linewidth='2') \n",
    "\n",
    "plt.xlabel(r\"$x$\", fontsize=26, color = 'w')\n",
    "plt.ylabel(r\"$10^{10}\\times$ Error\", fontsize=26, color = 'w')\n",
    "\n",
    "plt.xlim([-1.01,1.01])\n",
    "\n",
    "#plt.ticklabel_format(axis='both', style='sci', scilimits=(0,10))\n",
    "\n",
    "plt.tick_params(axis='x', which='both', top='False', color = 'w')\n",
    "plt.xticks(fontsize=18, rotation=0, color = 'w')\n",
    "plt.tick_params(axis='y', which='both', right='False', color = 'w')\n",
    "plt.yticks(fontsize=18, rotation=0, color = 'w')\n",
    "\n",
    "ax.yaxis.get_offset_text().set_fontsize(18)\n",
    "ax.yaxis.get_offset_text().set_color('w')\n",
    "\n",
    "plt.tight_layout()\n",
    "\n",
    "fig.set_size_inches(8, 6)\n",
    "#plt.rcParams['figure.dpi'] = 600\n",
    "    \n",
    "plt.show()"
   ]
  },
  {
   "cell_type": "markdown",
   "metadata": {},
   "source": [
    "Notice how most of the error is concentrated at the boundary nodes. This is because, even when using Chebyshev grids to counteract the Runge phenomenon, the worst interpolation errors still concentrate on the boundary: there is still near-boundary oscillation, but it's not as bad as that encountered with uniform grid spacing. This also justifies why we should choose the particular point where we evaluate accuracy in approximation of $u_{x}(x)$ to be one of the boundary points! "
   ]
  },
  {
   "cell_type": "code",
   "execution_count": 8,
   "metadata": {},
   "outputs": [],
   "source": [
    "grid_n = np.arange(4,41)\n",
    "\n",
    "errors_fd = np.ones_like(grid_n, dtype=float)\n",
    "\n",
    "errors_spec = np.ones_like(grid_n, dtype=float)\n",
    "\n",
    "ux_exact = test_fnc_prime(1)\n",
    "\n",
    "for n in np.arange(0,np.size(grid_n)): \n",
    "    \n",
    "    N = grid_n[n]\n",
    "\n",
    "    x = chebnodes(N)\n",
    "        \n",
    "    u = test_fnc(x)\n",
    "        \n",
    "    fd_estimate = D_fd(N)@u\n",
    "    \n",
    "    spec_estimate = chebdiff(N)@u\n",
    "        \n",
    "    errors_fd[n] = np.abs(ux_exact-fd_estimate[0])\n",
    "        \n",
    "    errors_spec[n] = np.abs(ux_exact-spec_estimate[0])\n",
    "    # note that were computing accuracy in the approximation of u_{x}(1), and since\n",
    "    # by default chebnodes reads right-to-left, we take out the 0^th entry of fd_estimate and \n",
    "    # spec_estimate instead of the -1^th entry"
   ]
  },
  {
   "cell_type": "code",
   "execution_count": 9,
   "metadata": {},
   "outputs": [
    {
     "data": {
      "image/png": "[encoded data removed]",
      "text/plain": [
       "<Figure size 576x432 with 1 Axes>"
      ]
     },
     "metadata": {
      "image/png": {
       "height": 387,
       "width": 534
      },
      "needs_background": "dark"
     },
     "output_type": "display_data"
    }
   ],
   "source": [
    "fig, ax =plt.subplots()\n",
    "plt.rc('text', usetex=True)\n",
    "plt.rc('font', family='serif')\n",
    "        \n",
    "plt.semilogy(grid_n, errors_fd, color='xkcd:pale teal', linewidth='3', linestyle='dashed', label=r\"Finite Difference\")\n",
    "\n",
    "plt.semilogy(grid_n, errors_spec, color='xkcd:light violet', linewidth='3', linestyle='solid',label=r\"Cheb. Spectral\")\n",
    "\n",
    "plt.xlim([5,40])\n",
    "\n",
    "ax.legend(fontsize=18, loc='best')\n",
    "\n",
    "plt.xlabel(r\"Number of Grid Sites $N$\", fontsize=26, color = 'w')\n",
    "plt.ylabel(r\"Error\", fontsize=26, color = 'w')\n",
    "\n",
    "plt.tick_params(axis='x', which='both', top='off', color = 'w')\n",
    "plt.xticks(fontsize=18, rotation=0, color = 'w')\n",
    "plt.tick_params(axis='y', which='both', right='off', color = 'w')\n",
    "plt.yticks(fontsize=18, rotation=0, color = 'w')\n",
    "#ax.locator_params(axis='y', nbins=6)\n",
    "#ax.locator_params(axis='x', nbins=6)\n",
    "\n",
    "plt.tight_layout()\n",
    "\n",
    "fig.set_size_inches(8, 6)\n",
    "#plt.rcParams['figure.dpi'] = 600\n",
    "    \n",
    "plt.show()"
   ]
  },
  {
   "cell_type": "markdown",
   "metadata": {},
   "source": [
    "We can also perform Chebyshev differentiation using the FFT. The following script, adapted from our periodic spectral differentiation routine, executes this. "
   ]
  },
  {
   "cell_type": "code",
   "execution_count": 10,
   "metadata": {},
   "outputs": [],
   "source": [
    "def chebdiff_fft(u):\n",
    "    \n",
    "    N = np.shape(u)[0] - 1\n",
    "        \n",
    "    u = u.reshape((N+1,)) # change to a column vector just in case\n",
    "    \n",
    "    # extend samples evenly the entire unit circle\n",
    "    V = np.zeros(2*N, dtype=float)\n",
    "    \n",
    "    V[0:N+1] = u\n",
    "    \n",
    "    V[N+1:] = np.flip(u[1:N])\n",
    "    \n",
    "    # take fft of even extension        \n",
    "    Vhat = fft(V+0j)\n",
    "    \n",
    "    # get symbol of partial_x = ik\n",
    "    partialx = 1j*np.zeros(2*N, dtype=float)\n",
    "    partialx[0:N+1] = 1j*np.arange(0,N+1)\n",
    "    partialx[N+1:] = 1j*np.arange(-N+1,0,1) \n",
    "        \n",
    "    # differentiate even extension, then ifft. Only keep part of that is relevant ie. restrict\n",
    "    # to the top half of the unit circle\n",
    "    U = np.real(ifft(partialx*Vhat)[0:N+1])\n",
    "    \n",
    "    # also discard imaginary part of Vhat\n",
    "    Vhat = np.real(Vhat)\n",
    "    \n",
    "    # finally, reconstruct \\partial_{x}u at the Chebyshev grid points. \n",
    "    ux = np.zeros(N+1, dtype=float)\n",
    "    \n",
    "    # handle interior points first w/ easy reconstruction formula\n",
    "    x = chebnodes(N)[1:N]\n",
    "    \n",
    "    ux[1:N] = -U[1:N]/np.sqrt(1.-x**2)\n",
    "    \n",
    "    # now deal with tougher boundary points. \n",
    "    indices = np.arange(1,N)\n",
    "    \n",
    "    ux[0] = np.sum((indices**2)*Vhat[1:N], axis=0)\n",
    "    \n",
    "    ux[0] += 0.5*((N**2)*Vhat[N]) # append last piece of sum\n",
    "    \n",
    "    ux[0]*= 1./(N) \n",
    "    # note: if we used Trefethen's fft/ifft conventions this factor would be different!\n",
    "    # But his convention disagrees with scipy fft defaults so we don't use it here. \n",
    "         \n",
    "    ux[N] = -np.sum(((-1.)**(indices))*(indices**2)*Vhat[1:N], axis=0)\n",
    "    \n",
    "    ux[N] += -0.5*(((-1.)**N) *(N**2)*Vhat[N])# append last piece of sum\n",
    "    \n",
    "    ux[N]*= 1./(N)\n",
    "    \n",
    "    # reshape for safety\n",
    "    ux.reshape((N+1,))\n",
    "        \n",
    "    return ux"
   ]
  },
  {
   "cell_type": "code",
   "execution_count": 11,
   "metadata": {},
   "outputs": [],
   "source": [
    "grid_n = np.arange(4,41)\n",
    "\n",
    "errors_fd = np.ones_like(grid_n, dtype=float)\n",
    "\n",
    "errors_spec = np.ones_like(grid_n, dtype=float)\n",
    "\n",
    "ux_exact = test_fnc_prime(1)\n",
    "\n",
    "for n in np.arange(0,np.size(grid_n)): \n",
    "    \n",
    "    N = grid_n[n]\n",
    "\n",
    "    x = chebnodes(N)\n",
    "        \n",
    "    u = test_fnc(x)\n",
    "        \n",
    "    fd_estimate = D_fd(N)@u\n",
    "    \n",
    "    spec_estimate = chebdiff_fft(u)\n",
    "        \n",
    "    errors_fd[n] = np.abs(ux_exact-fd_estimate[0])\n",
    "        \n",
    "    errors_spec[n] = np.abs(ux_exact-spec_estimate[0])\n",
    "    # note that were computing accuracy in the approximation of u_{x}(1), and since\n",
    "    # by default chebnodes reads right-to-left, we take out the 0^th entry of fd_estiamte and \n",
    "    # spec_estimate instead of the -1^th entry"
   ]
  },
  {
   "cell_type": "code",
   "execution_count": 12,
   "metadata": {},
   "outputs": [
    {
     "data": {
      "image/png": "[encoded data removed]",
      "text/plain": [
       "<Figure size 576x432 with 1 Axes>"
      ]
     },
     "metadata": {
      "image/png": {
       "height": 387,
       "width": 534
      },
      "needs_background": "dark"
     },
     "output_type": "display_data"
    }
   ],
   "source": [
    "fig, ax =plt.subplots()\n",
    "plt.rc('text', usetex=True)\n",
    "plt.rc('font', family='serif')\n",
    "        \n",
    "plt.semilogy(grid_n, errors_fd, color='xkcd:pale teal', linewidth='3', linestyle='dashed', label=r\"Finite Difference\")\n",
    "\n",
    "plt.semilogy(grid_n, errors_spec, color='xkcd:dark sea green', linewidth='3', linestyle='solid',label=r\"Cheb. Spectral (FFT)\")\n",
    "\n",
    "plt.xlim([5,40])\n",
    "\n",
    "ax.legend(fontsize=18, loc='best')\n",
    "\n",
    "plt.xlabel(r\"Number of Grid Sites $N$\", fontsize=26, color = 'w')\n",
    "plt.ylabel(r\"Error\", fontsize=26, color = 'w')\n",
    "\n",
    "plt.tick_params(axis='x', which='both', top='off', color = 'w')\n",
    "plt.xticks(fontsize=18, rotation=0, color = 'w')\n",
    "plt.tick_params(axis='y', which='both', right='off', color = 'w')\n",
    "plt.yticks(fontsize=18, rotation=0, color = 'w')\n",
    "#ax.locator_params(axis='y', nbins=6)\n",
    "#ax.locator_params(axis='x', nbins=6)\n",
    "\n",
    "plt.tight_layout()\n",
    "\n",
    "fig.set_size_inches(8, 6)\n",
    "#plt.rcParams['figure.dpi'] = 600\n",
    "    \n",
    "plt.show()"
   ]
  },
  {
   "cell_type": "markdown",
   "metadata": {},
   "source": [
    "From this figure, it appears that spatial versus FFT-based Chebyshev differentiation performs just as well as matrix-based Chebyshev differentation, at least for our simple test problem. "
   ]
  },
  {
   "cell_type": "code",
   "execution_count": null,
   "metadata": {},
   "outputs": [],
   "source": []
  }
 ],
 "metadata": {
  "kernelspec": {
   "display_name": "Python 3",
   "language": "python",
   "name": "python3"
  },
  "language_info": {
   "codemirror_mode": {
    "name": "ipython",
    "version": 3
   },
   "file_extension": ".py",
   "mimetype": "text/x-python",
   "name": "python",
   "nbconvert_exporter": "python",
   "pygments_lexer": "ipython3",
   "version": "3.7.6"
  }
 },
 "nbformat": 4,
 "nbformat_minor": 4
}
