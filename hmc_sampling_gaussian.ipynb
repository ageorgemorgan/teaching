{
 "cells": [
  {
   "cell_type": "markdown",
   "metadata": {},
   "source": [
    "# Demo: Baby Example with Hamiltonian Monte Carlo"
   ]
  },
  {
   "cell_type": "code",
   "execution_count": 1,
   "metadata": {},
   "outputs": [],
   "source": [
    "import numpy as np\n",
    "import matplotlib.pyplot as plt\n",
    "import time\n",
    "\n",
    "from IPython.display import set_matplotlib_formats\n",
    "set_matplotlib_formats('retina')"
   ]
  },
  {
   "cell_type": "markdown",
   "metadata": {},
   "source": [
    "In this demo we investigate the **Hamiltonian Monte Carlo (HMC)** method, a clever sampling technique that improves upon the random-walk-centric Metropolis-Hastings algorithm we have already discussed. The \"why\" of HMC relies on some facility with classical statistical mechanics, so the demo begins with a bare-bones introduction to this topics; more complete discussion is relegated to the references. Once we have the basics of stat mech under control, we can introduce HMC and dive right into seeing how it can be used to sample a normal distribution. We'll treat more complicated and interesting distributions in future demos. "
   ]
  },
  {
   "cell_type": "markdown",
   "metadata": {},
   "source": [
    "## Suggested References\n",
    "\n",
    "- Oliver Buhler, *A Brief Introduction to Classical, Statistical, and Quantum Mechanics*, AMS Courant Lecture Notes Series, 2006\n",
    "\n",
    "- Tony Chan and Jianhong Shen, *Image Processing and Analysis: Variational, PDE, Wavelet, and Stochastic Methods*, SIAM, 2005\n",
    "\n",
    "- Charles Kittel, *Elementary Statistical Physics*, Dover, 2012 (reprint of the 1958 edition) \n",
    "\n",
    "- Radford Neal, \"MCMC using Hamiltonian Dynamics\", Ch. 5 of *Handbook of Markov Chain Monte Carlo*, editted by Brooks et al., Chapman & Hall/CRC, 2011, http://www.mcmchandbook.net/HandbookChapter5.pdf (most of our discussion is based off this source)"
   ]
  },
  {
   "cell_type": "markdown",
   "metadata": {},
   "source": [
    "## Essentials of Statistical Mechanics"
   ]
  },
  {
   "cell_type": "markdown",
   "metadata": {},
   "source": [
    "### Basic Goals & Objects of the Theory"
   ]
  },
  {
   "cell_type": "markdown",
   "metadata": {},
   "source": [
    "Consider a system of $N$ non-interacting classical particles occupying a certain subregion of physical space. We allow the particles to possibly have different masses. Let the position of the $k^{\\text{th}}$ particle be denoted by $q_{k}(t)$, and let its momentum be denoted by $p_{k}(t)$. For brevity, we abbreviate the state of the system at time $t$ by \n",
    "$$\n",
    "x(t) = \\left(q_{1}(t), ... ,q_{N}(t), p_{1}(t), ..., p_{N}(t)\\right). \n",
    "$$\n",
    "Suppose that, due to certain mechanical constraints and/or the effect of an external potential $U(q_{1},...,q_{N})$, the state of the system at any given time must occupy a particular subset \n",
    "$$ \\Omega \\subseteq \\mathbb{R}^{2N} $$\n",
    "of phase space.\n",
    "\n",
    "Finally, recall that, if $H(x)$ denotes the total energy of the system, then **Hamilton's canonical equations** are satisfied:\n",
    "\\begin{align*}\n",
    "\\dot{q}_{k} &= \\phantom{-}\\frac{\\partial H}{\\partial p_{k}}, \\quad \\forall \\ k, \\quad \\text{and}\n",
    "\\\\\n",
    "\\dot{p}_{k} &= -\\frac{\\partial H}{\\partial q_{k}}, \\quad \\forall \\ k. \n",
    "\\end{align*}\n",
    "By solving Hamilton's equations with a particular set of initial conditions, we can determine the state of our system for all times. "
   ]
  },
  {
   "cell_type": "markdown",
   "metadata": {},
   "source": [
    "Here comes a problem: if $N\\gg 1$, then determining appropriate initial conditions may be extrememly difficult. For example, there is no easy way to measure the position and momentum of *all* the air molecules in a room with absolute certainty (even if we lived in a non-quantum universe). So, for large $N$, solving the canonical equations is not a practical way to make sensible physical predictions about our system. "
   ]
  },
  {
   "cell_type": "markdown",
   "metadata": {},
   "source": [
    "Instead of solving Hamilton's equations precisely, we may view the system as *microscopic*, and accept that we can only really observe it at a coarse *macroscopic* scale. This means we give up an enormous amount of information about the particular state our system occupies, so how can we hope to make useful predictions? We turn to probability theory, the music of lost information. By looking at the statistical behaviour of a large ensemble of particular microscopic states that could reasonably describe our system, we can obtain good physics that is at least valid on our real-world macroscopic scale. There is no better name for this approach than **statistical mechanics**. "
   ]
  },
  {
   "cell_type": "markdown",
   "metadata": {},
   "source": [
    "We start with a bit of vocabulary that helps make some of the above discussion more precise. First, we use the term *microstate* to mean the actual state of our system at the microscopic scale. Similarly, the term *macrostate* refers to all the information available to us at the macroscopic laboratory scale. A microstate is described by the usual canonical variables $x$, but a macrostate is described on thermodynamic variables like total volume occupied by the system in physical space and temperature. So, we can summarize the motivation behind statistical mechanics by saying that microstates are impssible to determine precisely, and we must be content with handling macrostates alone. Likewise, we can summarize the main idea of statistical mechanics by saying that doing statistics on \"ensembles\" of microstates can help us say something about a given macrostate!"
   ]
  },
  {
   "cell_type": "markdown",
   "metadata": {},
   "source": [
    "Next, we should clarify what we mean by an \"ensemble\". An ensemble is a rule for assigning any set of microstates $\\Omega'\\subseteq \\Omega$ with a probability $\\mu\\left(\\Omega'\\right)\\in [0,1]$ reflecting that chances that those microstates give rise to the macrostate we actually observe. Mathematically speaking, an ensemble gives a probability measure $\\mathrm{d} \\mu$ defined on, say, the Borel $\\sigma$-algebra of $\\Omega$. We always assume this probability measure admits a *probability distribution* $\\rho(x)$: if $\\mathrm{d}x$ denotes Lebesgue measure on $\\mathbb{R}^{2N}$, then\n",
    "$$\n",
    "\\mathrm{d} \\mu = \\rho(x) \\ \\mathrm{d}x. \n",
    "$$\n",
    "If $\\rho(x)\\approx 1$ for $x\\in \\Omega'$, then we can say it's very likely that the macrostate we observe corresponds to one of the microstates in $\\Omega'$. Conversely, if $\\rho(x)\\ll 1$ for $x\\in \\Omega'$, then it is highly unlikely (but not impossible) that the microstate that underlies our macrostate lives in $\\Omega'$. For a more old-fashioned but perhaps more insightful discussion on the zen meaning of an ensemble, see $\\S 2$ of Kittel. "
   ]
  },
  {
   "cell_type": "markdown",
   "metadata": {},
   "source": [
    "Finally, we define what we mean by using the \"statistical behaviour\" of an ensemble to make predictions about our macrostate. This is very simple: once we have our probability distribution function $\\rho(x)$, we can use it to compute the expectation, variance, and other statistics associated to a microstate function such as the Hamiltonian $H(x)$. This is a corollary of the tautological observation that every microstate function becomes a random variable once we equip $\\Omega$ with a probability measure. From the way $\\rho(x)$ has been defined, the expectation of the Hamiltonian, denoted $\\left\\langle H\\right\\rangle$, should correspond to the macroscopically observed total energy of our system $H_0$:\n",
    "$$\n",
    "H_0 = \\left\\langle H\\right\\rangle = \\int_{\\Omega} H(x) \\ \\rho(x)\\  \\mathrm{d} x. \n",
    "$$\n",
    "The general idea should now be clear: the macroscopically observable value of a particular quantity is the expectation of the corresponding quantity when viewed as a function on microstates. Thus statistical mechanics uses the tools of probability to make tangible, macro-world sense by performing statistical computations in the micro-world. "
   ]
  },
  {
   "cell_type": "markdown",
   "metadata": {},
   "source": [
    "A remark on nomenclature: in physics books, $\\left\\langle H\\right\\rangle$ is explicitly referred to as the **ensemble average** to distinguish it from the time average that appears when studying ergodic properties of mechanical systems. "
   ]
  },
  {
   "cell_type": "markdown",
   "metadata": {},
   "source": [
    "### Obtaining $\\rho(x)$ via Entropy Maximization"
   ]
  },
  {
   "cell_type": "markdown",
   "metadata": {},
   "source": [
    "All of the above discussion seems fine and dandy, but there is one major issue: how can we actually determine the correct probability density $\\rho(x)$ applicable to our system? Once we have this density we're good to go, but guessing the correct $\\rho(x)$ does not seem easy. Certainly, all we really know is that we can't really know much about the micro-world! But, even this simple idea is enough to wrap our heads around a neat way of obtaining a correct probability distribution, namely the **Gibbs-Shannon principle** of choosing the probability distribution that maximizes \"entropy\".  "
   ]
  },
  {
   "cell_type": "markdown",
   "metadata": {},
   "source": [
    "Before stating the Gibbs-Shannon principle, we should say what entropy means. Given a suitably nice probability distribution function $\\rho(x)$, we define its *Gibbs-Shannon entropy* by \n",
    "$$\n",
    "S[\\rho] = -\\int_{\\Omega} \\rho(x) \\ \\log\\rho(x) \\ \\mathrm{d}x.\n",
    "$$\n",
    "$S[\\rho]$ is usually thought of as a measure of randomness for the distribution $\\rho$. This can be seen most clearly by looking at the simplest possible example: \n",
    "\n",
    "**Pen-and-Paper Exercise**\n",
    "\n",
    "Suppose we are given a (possibly biased) coin: upon a flip of the coin, we get heads with probability $p_{1}$ or tails with probability $p_{2}.$ Define the *entropy* of the coin by the natural extension of the Gibbs-Shannon entropy to a discrete system: \n",
    "$$\n",
    "S(p_{1}, p_{2})= -p_{1}\\ln p_{1} - p_{2}\\ln p_{2}. \n",
    "$$\n",
    "\n",
    "a) Show that\n",
    "    $$\n",
    "    p_{1}+p_{2} =1.\n",
    "    $$\n",
    "  Use this to write entropy as a function of a single variable $p=p_{1}$. \n",
    "  \n",
    "b) Show that $S(p)$ has removable discontinuities at $p=0$ and $p=1$. In particular, argue why we can define $S(0)=S(1) =0.$\n",
    "\n",
    "c) Find the global extrema of $S(p)$ on $[0,1]$.\n",
    "\n",
    "d) Entropy is usually heuristically interpreted as measuring the \"amount of randomness\" present in some uncertain process (that is, the outcome of some process with high entropy is considered very uncertain, and vice versa). Do your results from parts b and c substantiate this heuristic? "
   ]
  },
  {
   "cell_type": "markdown",
   "metadata": {},
   "source": [
    "So, we can think of an entropy-maximizing distribution $\\rho$ as the most random distribution possible. Equivalently, this is the distribution where we have the least certainty possible. In other words, if we want to impose that our distribution maximizes our uncertainty regarding the microscopic physical system in question, then we should demand that $\\rho(x)$ satisfies the..."
   ]
  },
  {
   "cell_type": "markdown",
   "metadata": {},
   "source": [
    "**Gibbs-Shannon Variational Principle**\n",
    "\n",
    "Consider a physical system with ensemble distribution function $\\rho(x)$. Suppose $C_{1}(x), ..., C_{J}(x)$ are real-valued functions on $\\Omega$ such that each $C_{j}(x)$ has a prescribed ensemble expectation $\\left\\langle C_{j}\\right\\rangle = c_{j}$. Then, $\\rho(x)$ satisfies the constrained optimization problem \n",
    "$$ \\rho = \\underset{\\rho}{\\text{argmax}} \\ S[\\rho] $$\n",
    "subject to \n",
    "$$ \\int_{\\Omega}\\rho(x) \\ \\mathrm{d} x  = 1 $$\n",
    "and \n",
    "$$\n",
    "\\int_{\\Omega}C_{j}(x) \\ \\rho(x) \\ \\mathrm{d} x  = c_{j} \\quad \\forall \\ j=1,...,J  . \n",
    "$$"
   ]
  },
  {
   "cell_type": "markdown",
   "metadata": {},
   "source": [
    "The Gibbs-Shannon principle generalizes nicely to other mathematical and scientific problems where one is forced to admit they are as ignorant as possible. See Chan and Shen for examples of the Gibbs-Shannon philosophy in image processing. Below, we show how to use the calculus of variations to apply the Gibbs-Shannon principle in practice and obtain physically usable ensemble distributions $\\rho(x)$. "
   ]
  },
  {
   "cell_type": "markdown",
   "metadata": {},
   "source": [
    "### Examples"
   ]
  },
  {
   "cell_type": "markdown",
   "metadata": {},
   "source": [
    "####  #1: Microcanonical Ensemble\n",
    "\n",
    "Here, we assume our system is perfectly isolated. So, the only constraint we need to impose is the constraint that $\\rho(x)$ is actually a probability distribution. We take this constraint into account by adding a Lagrange multiplier $\\alpha$ to the objective $S[\\rho]$, then taking the first variation: let $\\delta\\rho(x)$ be any continuous, real-valued function on $\\Omega$, then \n",
    "\\begin{align*}\n",
    "0 &= \\frac{\\partial}{\\partial \\epsilon}\\bigg|_{\\epsilon=0} \\int_{\\Omega} \\left(\\rho(x)+\\epsilon\\delta\\rho(x)\\right)\\log\\left(\\rho(x)+\\epsilon\\delta\\rho(x)\\right)  + \\alpha\\left(\\rho(x)+\\epsilon\\delta\\rho(x) - \\frac{1}{|\\Omega|}\\right) \\ \\mathrm{d} x\n",
    "\\\\\n",
    "&= \\int_{\\Omega} \\frac{\\rho\\delta \\rho}{\\rho+\\epsilon \\delta \\rho}\\bigg|_{\\epsilon=0} + \\delta\\rho\\log\\left(\\rho+\\epsilon\\delta\\rho\\right)|_{\\epsilon=0}+\\frac{\\epsilon(\\delta\\rho)^2}{\\rho+\\epsilon\\delta\\rho}\\bigg|_{\\epsilon=0} + \\alpha\\delta\\rho \\ \\mathrm{d} x\n",
    "\\\\\n",
    "&= \\int_{\\Omega} \\delta\\rho(x) \\left(1+\\log\\rho(x) +\\alpha\\right) \\ \\mathrm{d} x.\n",
    "\\end{align*}\n",
    "Since the variation $\\delta\\rho(x)$ was chosen arbitrarily, we conclude that \n",
    "$$\n",
    "\\rho(x) = e^{-(1+\\alpha)} = \\text{constant}. \n",
    "$$\n",
    "Since $\\rho(x)$ must integrate to $1$, we conclude that the constant is in fact\n",
    "$$\n",
    "\\rho(x) \\equiv \\frac{1}{|\\Omega|}.\n",
    "$$\n",
    "So, in the (completely unconstrained) microcanonical ensemble, all states are equally likely."
   ]
  },
  {
   "cell_type": "markdown",
   "metadata": {},
   "source": [
    "####  #2: Canonical Ensemble\n",
    "\n",
    "Now, we add a layer of complexity. Assume our system is in contact with a heat bath having fixed temperature $T$. We assume the system is in equilibrium, so its temperature is also $T$. There is no exchange of particles between the system and the heat bath, and the effect of the heat bath does not change the volume of our system. However, energy can still be passed between the system and the heat bath. Consequently, the energies of any two distinct microstates need not be identical. That being said, on average we can expect the microstate energies to be identical: it's just as likely for the heat bath to take out a bit of energy as it is for it to inject a bit of energy. In other words, energy differences between microstates are random. This means that we are fixing the ensemble expectation of the Hamiltonian at some prescribed value $H_0$:\n",
    "$$ \\left\\langle H \\right\\rangle = H_0.$$\n",
    "Physically, $H_0$ is the macroscopic energy of our system (and not the system + the heat bath). \n",
    "\n",
    "Accordingly, in this case we have an additional constraint in the Gibbs-Shannon variational problem. We again take this extra constraint into account using a Lagrange multiplier $\\beta$. Taking the first variation of the augmented objective yields\n",
    "$$ \n",
    "0 = \\int_{\\Omega} \\delta\\rho(x) \\left(1+\\log\\rho(x)+\\alpha+\\beta H(x)\\right) \\ \\mathrm{d}x \\quad \\forall\\  \\delta\\rho(x)\\in C\\left(\\Omega\\right).\n",
    "$$\n",
    "Since the variation $\\delta\\rho$ was chosen arbitrarily, we find that our density function has the form \n",
    "$$\n",
    "\\rho(x) = e^{-(1+\\alpha)}e^{-\\beta H(x)}.\n",
    "$$\n",
    "Following the physical convention, we exchange the Lagrange multiplier $\\alpha$ for the **partition function** $Z(\\beta)$ according to \n",
    "$$\n",
    "Z(\\beta) \\doteq e^{1+\\alpha} = \\int_{\\Omega} e^{-\\beta H(x)} \\ \\mathrm{d} x.\n",
    "$$\n",
    "The probability distribution then reads as \n",
    "$$\n",
    "\\rho(x) = \\frac{1}{Z(\\beta)} e^{-\\beta H(x)},\n",
    "$$\n",
    "called the **Boltzmann-Gibbs distribution** associated to the Hamiltonian $H(x)$ and the parameter $\\beta$. This takes care of the Lagrange multipler $\\alpha$, but we still need to compute and interpret the second Lagrange multiplier $\\beta$. This requires a bit of ingenuity and a bit of physics background (or faith). We start by computing the optimal entropy:\n",
    "\\begin{align*}\n",
    "S[\\rho] &= -\\int_{\\Omega} \\rho(x) \\log\\left(\\frac{1}{Z(\\beta)} e^{-\\beta H(x)}\\right) \\ \\mathrm{d} x\n",
    "\\\\\n",
    "&=-\\int_{\\Omega} \\rho(x) \\left[-\\beta H(x) -\\log Z(\\beta) \\right] \\ \\mathrm{d} x\n",
    "\\\\\n",
    "&= \\beta\\int_{\\Omega} H(x)\\ \\rho(x) \\ \\mathrm{d} x + \\log Z(\\beta)\n",
    "\\\\\n",
    "&= \\beta\\left\\langle H\\right\\rangle + \\log Z(\\beta)\n",
    "\\\\\n",
    "\\Rightarrow S[\\rho] &= \\beta H_{0} + \\log Z(\\beta).\n",
    "\\end{align*}\n",
    "Therefore, we find that $\\beta$ satisfies \n",
    "$$\n",
    "\\beta = \\frac{\\partial S}{\\partial H_0}. \n",
    "$$\n",
    "From classical thermodynamics, the right-hand side is precisely the inverse temperature $\\frac{1}{T}$ if we choose a system of units where Boltzmann's constant is equal to 1, so \n",
    "$$\n",
    "\\beta = \\frac{1}{T}. \n",
    "$$\n",
    "Thus we can determine both Lagrange multipliers $\\alpha,\\beta$ in terms of the ambient temperature $T$ and the Hamiltonian $H(x)$, and thereby actually evaluate $\\rho(x)$. Note that, even though the temperature $T$ is a more physically clear variable, physicists often prefer to work with the inverse temperature $\\beta$ instead since it keeps many computations clean. \n",
    "\n",
    "**Pen-and-Paper Exercise**\n",
    "\n",
    "a) Show that the inverse temperature $\\beta$ and the macroscopic energy $H_0$ must satisfy the compatibility condition \n",
    "$$\n",
    "H_0 =\\left\\langle H\\right\\rangle= -\\frac{\\partial \\log Z}{\\partial \\beta}. \n",
    "$$\n",
    "\n",
    "b) Show that \n",
    "\n",
    "$$\n",
    "\\text{Var}H = \\frac{\\partial^2 \\log Z}{\\partial \\beta^2}.\n",
    "$$\n",
    "\n",
    "These computations show that the partition function $Z(\\beta)$ encodes many useful statistics associated to the Boltzmann-Gibbs distribution. This nice property explains why it has a special name, rather than just being called the \"normalization factor\". "
   ]
  },
  {
   "cell_type": "markdown",
   "metadata": {},
   "source": [
    "#### #3: Grand Canonical Ensemble\n",
    "\n",
    "This describes a system that has randomly exchanged both energy *and* particles with an external heat bath on its way to macroscopic equilibrium. If we denote the particle number density in phase space by $n(x)$, then we have all the constraints associated to the canonical ensemble plus\n",
    "$$ \n",
    "\\left\\langle n \\right\\rangle = n_0 \n",
    "$$\n",
    "for some fixed macroscopically observable particle number $n_0$. \n",
    "\n",
    "**Pen-and-Paper Exercise**\n",
    "\n",
    "Determine the probabilty distribution $\\rho(x)$ for the grand canonical ensemble, making sure to describe how to extend the definition of the partition function to this problem. Give a physical interpretation of the Lagrange multiplier associated to the constraint $\\left\\langle n \\right\\rangle = n_0$. *Hint: see $\\S 14$ of Kittel if you get stuck with the last part*. "
   ]
  },
  {
   "cell_type": "markdown",
   "metadata": {},
   "source": [
    "## The Hamiltonian Monte Carlo (HMC) Method"
   ]
  },
  {
   "cell_type": "markdown",
   "metadata": {},
   "source": [
    "Now, we explain how the statistical mechanics formalism discussed above provides a neat way of sampling a given probability distribution $f(q)$, called the **Hamiltonian Monte Carlo (HMC)** method. HMC is a particular type of Markov Chain Monte-Carlo (MCMC) scheme, like the Metropolis-Hastings (MH) algorithm we have discussed previously. MH gave us a way of sampling $f(q)$ purely using random walks, but we shall see below in our numerical example that HMC gives a much more effective \"semi-deterministic\" way of exploring the target distribution $f(q)$. "
   ]
  },
  {
   "cell_type": "markdown",
   "metadata": {},
   "source": [
    "### From Pure Statistics to a Canonical Ensemble"
   ]
  },
  {
   "cell_type": "markdown",
   "metadata": {},
   "source": [
    "The starting point of HMC is to transform our purely statistical problem into a Hamiltonian dynamical system. Given the data variables $q\\in \\mathbb{R}^{N}$ we're interested in, we augment them with false momentum variables $p\\in \\mathbb{R}^{N}$. The total state of our Hamiltonian system is then \n",
    "$$ \n",
    "x= (q,p) \\in \\mathbb{R}^{2N}. \n",
    "$$\n",
    "To form a Hamiltonian $H(x)$, we use divine inspiration. First, form a potential energy function by \n",
    "$$\n",
    "U(q) = -\\log f(q). \n",
    "$$\n",
    "Then, choose a symmetric, positive-definite matrix $M$ (how to choose $M$ suitably will become clear soon) and define a kinetic energy function by \n",
    "$$\n",
    "K(p) = \\frac12 p^{\\mathrm{T}}M^{-1}p. \n",
    "$$\n",
    "Our Hamiltonian is then the total energy\n",
    "$$\n",
    "H(x) = K(p) + U(q) = \\frac12 p^{\\mathrm{T}}M^{-1}p-\\log f(q). \n",
    "$$\n",
    "We may then write down Hamilton's canonical equations for this sytem without much fuss. "
   ]
  },
  {
   "cell_type": "markdown",
   "metadata": {},
   "source": [
    "Now we'll start to see the magic of the above choice of Hamiltonian. Imagine that our false Hamiltonian system is in contact with a heat bath of fixed temperature $T=1$. We then equip our phase space with the canonical ensemble measure associated to $H(x)$, which means our probability distribution is the Gibbs-Boltzmann distribution: \n",
    "$$\n",
    "\\rho(x) = \\left\\{\\frac{\\beta}{Z(\\beta)} \\exp\\left(-\\frac{\\beta}{2}p^{\\mathrm{T}}M^{-1}p\\right)\\right\\} \\ f(q).\n",
    "$$\n",
    "Aha! By perhaps massaging $M$ a bit, the Gibbs-Boltzmann distribution of our Hamiltonian system is very close to the original distribution $f(q)$ we want to sample from. Thus, we intuitively expect that sampling from $\\rho(x)$ should give us decent samples of $f(q)$. This is the magic idea of HMC: turn your purely statistical problem into a special Hamiltonian system, then get the samples you want by sampling from the canonical ensemble of that Hamiltonian system. This gives us a whole truckload of extra Hamiltonian machinery we can use to help get samples. In particular, now that our problem has been Hamiltonianized, we have access to a new type of movement on the data space, as opposed to the pure random walks MH used in the abscence of any structure. Namely, we can move samples according to the flow of Hamilton's canonical equations!  "
   ]
  },
  {
   "cell_type": "markdown",
   "metadata": {},
   "source": [
    "### The Algorithm"
   ]
  },
  {
   "cell_type": "markdown",
   "metadata": {},
   "source": [
    "Start by choosing a suitable initial data position $q_{0}$, either randomly or with some *a priori* knowledge of our distribution's shape. Each sampling step in HMC then has the following form, supposing we have just completed step $n$ to get a sample $X_{n}=(q_{n}, p_{n})$ of our Gibbs-Boltzmann distribution $\\rho(x)$. \n",
    "\n",
    "1) Set $x_{*} = (q_{n}, p_{*})$ with $p_{*}$ randomly chosen from the $N$-variate normal distribution with mean $0$ and covariance matrix $M$ (this is where choosing $M$ becomes important!).\n",
    "\n",
    "2) For a particular $L\\in \\mathbb{N}$ and time-step $\\Delta t\\in (0,1]$, use a symplectic (Hamiltonian-structure-preserving) numerical method such as leapfrogging to integrate Hamilton's canonical equations starting from $x_{*}$ for $L$ time steps, obtaining $Y\\in \\mathbb{R}^{2N}$.   \n",
    "3) Perform a MH decision step with respect to $\\rho(x)$ to determine if $x_{n+1}$ is accepted or not. More specifically, define \n",
    "$$\n",
    "\\alpha = \\min\\left\\{1,\\frac{\\rho\\left(Y\\right)}{\\rho\\left(X_{n}\\right)}\\right\\}\n",
    "$$\n",
    "and accept the step with probability $\\alpha$. Note that we can ignore computation of the partition function here, since $\\alpha$ is invariant under multiplication by a constant. \n",
    "\n",
    "4) If the step was accepted, set $X_{n+1}= Y$. Otherwise, set $X_{n+1}=X_{n}$. "
   ]
  },
  {
   "cell_type": "markdown",
   "metadata": {},
   "source": [
    "In physical language, this algorithm is approximately trying to determine a trajectory (phase-space history) in a particular microstate of our physical system. Starting from a given phase point, we see where isoenergetic Hamiltonian evolution would transport that point, then a MH acceptance/rejection step accounts for the ambient heat bath randomly injecting or extracting energy. In this way, we have made use of what we know about Hamiltonian systems to build our distribution-exploring algorithm. I emphasize that, in the absence of extra structure, the only way you can move through the data space is with a random walk! "
   ]
  },
  {
   "cell_type": "markdown",
   "metadata": {},
   "source": [
    "I remark that HMC involves several parameters, namely $M$, $\\Delta t$, and $L$. Tuning these parameters is a critical task for any serious application, but we won't have time to discuss details today (though see Neal's notes). "
   ]
  },
  {
   "cell_type": "markdown",
   "metadata": {},
   "source": [
    "## Code Example: HMC Sampling of a Univariate Normal Distribution "
   ]
  },
  {
   "cell_type": "markdown",
   "metadata": {},
   "source": [
    "As with our MH demo, we first implement HMC for a univariate normal distribution with standard deviation $\\sigma$:\n",
    "$$\n",
    "f(q) = \\frac{1}{\\sigma\\sqrt{2\\pi}}\\exp\\left(-\\frac12\\left(\\frac{q}{\\sigma}\\right)^2\\right). \n",
    "$$\n",
    "Since our HMC algorithm already depends on us being able to sample a Gaussian in order to determine the momenta at each step, this is even more trivial than before, but it is still worth looking at to illustrate the improvement HMC exhibits over vanilla MH. We'll use the numpy built-in normal sampler to get our momenta, but you could just as easily use MH for this, so in this way we can view HMC again as building off MH. "
   ]
  },
  {
   "cell_type": "markdown",
   "metadata": {},
   "source": [
    "Suppose our mass parameter is $m$. I remark that the Hamiltonian equations for this problem are \n",
    "\\begin{align*}\n",
    "\\dot{q} &= \\frac{1}{m}p\n",
    "\\\\\n",
    "\\dot{p}&=-\\frac{1}{\\sigma^2}q. \n",
    "\\end{align*}\n",
    "The leapfrog discretization of these equations with time-step $\\Delta t$ reads\n",
    "\\begin{align*}\n",
    "p_{n+\\frac12} &= p_{n} - \\frac{\\Delta t}{2\\sigma^2}q_{n},\n",
    "\\\\\n",
    "q_{n+1} &= q_{n}+ \\frac{\\Delta t}{m} p_{n+\\frac12},\n",
    "\\\\\n",
    "p_{n+1} &= p_{n+\\frac12} - \\frac{\\Delta t}{2\\sigma^2}q_{n+1}. \n",
    "\\end{align*}"
   ]
  },
  {
   "cell_type": "markdown",
   "metadata": {},
   "source": [
    "First, we define our distribution (remember, we don't need to include the normalization factor). "
   ]
  },
  {
   "cell_type": "code",
   "execution_count": 2,
   "metadata": {},
   "outputs": [],
   "source": [
    "sigma = 1. # standard deviation of our distribution\n",
    "\n",
    "def f(x): # un-normalized normal distribution with std dev sigma\n",
    "    return np.exp((-0.5/sigma**2)*x**2)"
   ]
  },
  {
   "cell_type": "markdown",
   "metadata": {},
   "source": [
    "We also need a subroutine that leapfrog-integrates Hamilton's equations: "
   ]
  },
  {
   "cell_type": "code",
   "execution_count": 3,
   "metadata": {},
   "outputs": [],
   "source": [
    "def leapfrog(x0, m, dt = 1e-1, L = 10.):\n",
    "    \n",
    "    # x0 = initial state\n",
    "    \n",
    "    # dt = time-step size\n",
    "    \n",
    "    # L = number of time-steps\n",
    "    \n",
    "    q0, p0 = x0[0], x0[1]\n",
    "    \n",
    "    qold = q0\n",
    "    \n",
    "    pold = p0\n",
    "    \n",
    "    for n in np.arange(1,L):\n",
    "        \n",
    "        pint = pold + 0.5*dt*((-1./sigma**2)*qold)\n",
    "        \n",
    "        qnew = qold + dt*(1./m)*pint\n",
    "        \n",
    "        pnew = pint + 0.5*dt*((-1./sigma**2)*qnew)\n",
    "        \n",
    "        # finally, change variable definition\n",
    "        \n",
    "        qold = qnew\n",
    "        \n",
    "        pold = pnew\n",
    "    \n",
    "    return np.array([qold, pold]).T"
   ]
  },
  {
   "cell_type": "markdown",
   "metadata": {},
   "source": [
    "With our leapfrogger in hand, we can easily adapt our MH code to work for HMC. "
   ]
  },
  {
   "cell_type": "code",
   "execution_count": 4,
   "metadata": {},
   "outputs": [],
   "source": [
    "def hmc_gaussian_sampling(sigma, q0 = 0.0, m = 1., dt = 1e-1, L=10., N=1e2):\n",
    "# sigma = standard deviation of our Gaussian\n",
    "\n",
    "# q0 = initial state guess\n",
    "\n",
    "# m = false mass parameter\n",
    "\n",
    "# dt = leapfrog step size\n",
    "\n",
    "# L = number of leapfrog steps per MH iteration\n",
    "\n",
    "# N = number of MH steps\n",
    "\n",
    "    x = np.zeros((2,N), dtype=float) # vector storing samples \n",
    "    \n",
    "    # use initial guess\n",
    "    x[0,0] = q0\n",
    "    \n",
    "    # enumerate number of rejected guesses\n",
    "    rejected = 0. \n",
    "    \n",
    "    start = time.time()\n",
    "\n",
    "    for n in np.arange(1,N):\n",
    "        \n",
    "        # randomly choose starting momentum #TODO: change to MH? \n",
    "        p0 = np.random.normal(loc= 0., scale = m) \n",
    "        x[1,n-1] = p0\n",
    "        \n",
    "        # run leapfrog to advance system along Hamiltonian flow. This replaces\n",
    "        # the random-sized increment we saw for MH\n",
    "        y = leapfrog(x[:,n-1], m = m, dt = dt, L = L)\n",
    "        \n",
    "        # now decide to accept or reject the step\n",
    "        alpha = f(y[0])/f(x[0,n-1])\n",
    "        \n",
    "        alpha *= np.exp(-(0.5/m)*(y[1]**2-x[1,n-1]**2))\n",
    "        \n",
    "        #print('alpha = ', alpha)\n",
    "    \n",
    "        u = np.random.uniform(low=0., high=1.)\n",
    "\n",
    "        if u <= alpha:\n",
    "        \n",
    "            x[:,n] = y\n",
    "                    \n",
    "        elif u > alpha:\n",
    "    \n",
    "            x[:,n] = x[:,n-1]\n",
    "        \n",
    "            rejected += 1.\n",
    "            \n",
    "    rej_ratio =  rejected/N \n",
    "            \n",
    "    print('Rejection Ratio for ' , N, 'samples = %.4f' % rej_ratio) \n",
    "    \n",
    "    end=time.time()\n",
    "    \n",
    "    runtime = end-start\n",
    "    \n",
    "    print('Runtime for ' , N, 'samples = %.2f' % runtime, 'seconds')\n",
    "        \n",
    "    return x "
   ]
  },
  {
   "cell_type": "markdown",
   "metadata": {},
   "source": [
    "To test the performance of HMC, we use the same tests used to diagnose MH: looking at the accuracy of the mean and standard deviation, and plotting a histogram of the explored data points. "
   ]
  },
  {
   "cell_type": "code",
   "execution_count": 5,
   "metadata": {},
   "outputs": [
    {
     "name": "stdout",
     "output_type": "stream",
     "text": [
      "Rejection Ratio for  100 samples = 0.0100\n",
      "Runtime for  100 samples = 0.02 seconds\n",
      "Rejection Ratio for  215 samples = 0.0000\n",
      "Runtime for  215 samples = 0.02 seconds\n",
      "Rejection Ratio for  464 samples = 0.0000\n",
      "Runtime for  464 samples = 0.06 seconds\n",
      "Rejection Ratio for  1000 samples = 0.0020\n",
      "Runtime for  1000 samples = 0.08 seconds\n",
      "Rejection Ratio for  2154 samples = 0.0005\n",
      "Runtime for  2154 samples = 0.32 seconds\n",
      "Rejection Ratio for  4641 samples = 0.0004\n",
      "Runtime for  4641 samples = 0.58 seconds\n",
      "Rejection Ratio for  10000 samples = 0.0003\n",
      "Runtime for  10000 samples = 1.25 seconds\n"
     ]
    }
   ],
   "source": [
    "sizes = np.logspace(2,4,7).astype(int)\n",
    "\n",
    "num_sizes= np.shape(sizes)[0]\n",
    "\n",
    "mean_errors = np.zeros(num_sizes, dtype=float)\n",
    "\n",
    "var_errors = np.zeros(num_sizes, dtype=float)\n",
    "\n",
    "# make an intial guess, either the origin or a random guess in the 65% confidence interval\n",
    "q0 = 0.0 # np.random.uniform(low=-sigma, high=sigma)\n",
    "\n",
    "for n in np.arange(num_sizes):\n",
    "    \n",
    "    N = sizes[n]\n",
    "    \n",
    "    x = hmc_gaussian_sampling(sigma, q0 = q0, m = 1., dt = 1e-1, L= 20., N = N)\n",
    "    \n",
    "    q = x[0,:]\n",
    "            \n",
    "    mean_guess = np.abs((1./N)*np.sum(q))\n",
    "    \n",
    "    mean_errors[n] = mean_guess\n",
    "    \n",
    "    var_errors[n] = np.abs((1./N)*np.sum((q-mean_guess)**2)-sigma**2)"
   ]
  },
  {
   "cell_type": "code",
   "execution_count": 6,
   "metadata": {},
   "outputs": [
    {
     "data": {
      "image/png": "[encoded data removed]",
      "text/plain": [
       "<Figure size 576x432 with 1 Axes>"
      ]
     },
     "metadata": {
      "image/png": {
       "height": 385,
       "width": 537
      },
      "needs_background": "dark"
     },
     "output_type": "display_data"
    }
   ],
   "source": [
    "plt.rc('text', usetex=True)\n",
    "plt.rc('font', family='serif')\n",
    "\n",
    "fig=plt.figure()\n",
    "ax = fig.add_subplot(111, frameon=True)\n",
    "\n",
    "plt.loglog(sizes, mean_errors, color='xkcd:slate grey', linestyle='solid')\n",
    "plt.loglog(sizes, var_errors, color='xkcd:dark lime', linestyle='dashed')\n",
    "\n",
    "plt.rcParams['axes.spines.right'] = False\n",
    "plt.rcParams['axes.spines.top'] = False\n",
    "\n",
    "plt.legend(['Mean', 'Variance'], loc='best', fontsize=20)\n",
    "\n",
    "plt.xlabel(r\"Sample Size $N$\", fontsize=30, color = 'w')\n",
    "plt.ylabel(r\"Errors\", fontsize=30, color = 'w')\n",
    "\n",
    "plt.tick_params(axis='x', which='both', top='off', color = 'w')\n",
    "plt.xticks(fontsize=16, rotation=0, color = 'w')\n",
    "plt.tick_params(axis='y', which='both', right='off', color = 'w')\n",
    "plt.yticks(fontsize=16, rotation=0, color = 'w')\n",
    "\n",
    "plt.tight_layout()\n",
    "\n",
    "fig.set_size_inches(8, 6)\n",
    "#plt.rcParams['figure.dpi'] = 600\n",
    "\n",
    "#\"\"\"\n",
    "plt.show()"
   ]
  },
  {
   "cell_type": "code",
   "execution_count": 7,
   "metadata": {},
   "outputs": [
    {
     "data": {
      "image/png": "[encoded data removed]",
      "text/plain": [
       "<Figure size 576x432 with 1 Axes>"
      ]
     },
     "metadata": {
      "image/png": {
       "height": 375,
       "width": 537
      },
      "needs_background": "dark"
     },
     "output_type": "display_data"
    }
   ],
   "source": [
    "fig=plt.figure()\n",
    "ax = fig.add_subplot(111, frameon=True)\n",
    "\n",
    "plt.hist(q, color='xkcd:dark lime')\n",
    "\n",
    "plt.rcParams['axes.spines.right'] = False\n",
    "plt.rcParams['axes.spines.top'] = False\n",
    "\n",
    "plt.xlabel(r\"Position $q$\", fontsize=30, color = 'w')\n",
    "plt.ylabel(r\"Number of Samples\", fontsize=30, color = 'w')\n",
    "\n",
    "plt.tick_params(axis='x', which='both', top='off', color = 'w')\n",
    "plt.xticks(fontsize=16, rotation=0, color = 'w')\n",
    "plt.tick_params(axis='y', which='both', right='off', color = 'w')\n",
    "plt.yticks(fontsize=16, rotation=0, color = 'w')\n",
    "\n",
    "plt.xlim([-4,4])\n",
    "\n",
    "plt.tight_layout()\n",
    "\n",
    "fig.set_size_inches(8, 6)\n",
    "#plt.rcParams['figure.dpi'] = 600\n",
    "\n",
    "#\"\"\"\n",
    "plt.show()"
   ]
  },
  {
   "cell_type": "markdown",
   "metadata": {},
   "source": [
    "Generally, it appears that HMC produces more accurate and well-behaved error curves for the key statistics of our distribution than does MH. HMC also tends to give rise to more symmetric histograms than MH (still not perhaps as symmetric as we'd like, but certainly better than MH). This tells us that HMC explores the data more evenhandedly than MH: moving according to an interrupted Hamiltonian flow lets us go a bit further and prevents us from getting stuck in the ruts that pure random walks are susceptible to. "
   ]
  },
  {
   "cell_type": "markdown",
   "metadata": {},
   "source": [
    "TODO: explain where the \"Markov chain\" comes in here!"
   ]
  },
  {
   "cell_type": "code",
   "execution_count": null,
   "metadata": {},
   "outputs": [],
   "source": []
  }
 ],
 "metadata": {
  "kernelspec": {
   "display_name": "Python 3",
   "language": "python",
   "name": "python3"
  },
  "language_info": {
   "codemirror_mode": {
    "name": "ipython",
    "version": 3
   },
   "file_extension": ".py",
   "mimetype": "text/x-python",
   "name": "python",
   "nbconvert_exporter": "python",
   "pygments_lexer": "ipython3",
   "version": "3.7.6"
  }
 },
 "nbformat": 4,
 "nbformat_minor": 4
}
